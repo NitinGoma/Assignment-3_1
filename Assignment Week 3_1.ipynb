{
 "cells": [
  {
   "cell_type": "markdown",
   "id": "1ddf6333-fd4f-4363-9d96-fa545dfe2534",
   "metadata": {},
   "source": [
    "Assignment Week 3"
   ]
  },
  {
   "cell_type": "markdown",
   "id": "e6351996-b5df-43c7-b4c4-5dd45aefb3fe",
   "metadata": {},
   "source": [
    "Q1. Which keyword is used to create a function? Create a function to return a list of odd numbers in the\n",
    "range of 1 to 25."
   ]
  },
  {
   "cell_type": "code",
   "execution_count": 8,
   "id": "e6fe44fa-002a-4086-ab1a-4046318e2834",
   "metadata": {},
   "outputs": [],
   "source": [
    "#def is use to create a function\n",
    "\n",
    "def odd1():\n",
    "    odd_number=[]\n",
    "    for i in range(1,26):\n",
    "        if i %2 !=  0:\n",
    "            odd_number.append(i)\n",
    "    return odd_number"
   ]
  },
  {
   "cell_type": "code",
   "execution_count": 9,
   "id": "5eee48f7-6d82-44ac-81f1-fd869f57b1dd",
   "metadata": {},
   "outputs": [
    {
     "data": {
      "text/plain": [
       "[1, 3, 5, 7, 9, 11, 13, 15, 17, 19, 21, 23, 25]"
      ]
     },
     "execution_count": 9,
     "metadata": {},
     "output_type": "execute_result"
    }
   ],
   "source": [
    "odd1()"
   ]
  },
  {
   "cell_type": "markdown",
   "id": "0ab0061e-99ee-4e0c-a11b-8a57926ade6a",
   "metadata": {},
   "source": [
    "Q2. Why *args and **kwargs is used in some functions? Create a function each for *args and **kwargs\n",
    "to demonstrate their use"
   ]
  },
  {
   "cell_type": "raw",
   "id": "cd33cb5a-9bcc-4284-8dec-56947d1c6f46",
   "metadata": {},
   "source": [
    "*args and **kwargs are used in some functions to allow the function to be called with a variable number of arguments. *args is a special parameter that can be used to accept any number of positional arguments, while **kwargs is a special parameter that can be used to accept any number of keyword arguments."
   ]
  },
  {
   "cell_type": "code",
   "execution_count": 12,
   "id": "637bdb64-c9ab-4040-9391-9a43c391c861",
   "metadata": {},
   "outputs": [],
   "source": [
    "def my_fun(*args):\n",
    "    for i in args:\n",
    "        i=i*2\n",
    "        print(i)"
   ]
  },
  {
   "cell_type": "code",
   "execution_count": 13,
   "id": "0fb04c27-a460-4dc7-b59f-ef53d06f36a9",
   "metadata": {},
   "outputs": [
    {
     "name": "stdout",
     "output_type": "stream",
     "text": [
      "2\n",
      "4\n",
      "6\n",
      "8\n",
      "10\n"
     ]
    }
   ],
   "source": [
    "my_fun(1, 2, 3, 4, 5)"
   ]
  },
  {
   "cell_type": "code",
   "execution_count": 19,
   "id": "be6bb575-14f6-404e-bae0-b9efff64bb60",
   "metadata": {},
   "outputs": [],
   "source": [
    "def my_fun1(**kwargs):\n",
    "    for key, value in kwargs.items():\n",
    "        print(f\"{key}: {value}\")"
   ]
  },
  {
   "cell_type": "code",
   "execution_count": 20,
   "id": "11384ff1-8117-4305-9d05-d4404309c0b9",
   "metadata": {},
   "outputs": [
    {
     "name": "stdout",
     "output_type": "stream",
     "text": [
      "name: Nitin\n",
      "age: 24\n",
      "occupation: Data Engineer\n"
     ]
    }
   ],
   "source": [
    "my_fun1(name=\"Nitin\", age=24, occupation=\"Data Engineer\")"
   ]
  },
  {
   "cell_type": "markdown",
   "id": "c9456c13-daf7-4b04-9dc4-e2cc44b1f842",
   "metadata": {},
   "source": [
    "Q4. What is a generator function in python? Why yield keyword is used? Give an example of a generator\n",
    "function."
   ]
  },
  {
   "cell_type": "raw",
   "id": "8404eca0-64ec-4f7c-9af9-974c59ff06e3",
   "metadata": {},
   "source": [
    "A generator function is a special type of function that returns an iterator. An iterator is an object that can be used to iterate over a sequence of values. Generator functions are used when you want to produce a sequence of values, but you don't want to store all of the values in memory at once.\n",
    "\n",
    "The yield keyword is used in generator functions to produce values. When the yield keyword is used, the generator function will pause execution and return the value to the caller. The generator function will then resume execution at the next yield statement."
   ]
  },
  {
   "cell_type": "code",
   "execution_count": 22,
   "id": "8a8587a9-3f83-4efa-b488-96a2cc83ff45",
   "metadata": {},
   "outputs": [],
   "source": [
    "def gen(n):\n",
    "    a,b=10,11\n",
    "    for i in range(n):\n",
    "        yield a\n",
    "        a,b= b, a+b"
   ]
  },
  {
   "cell_type": "code",
   "execution_count": 23,
   "id": "6715aa91-42da-4b87-a58a-73a7527b2ec1",
   "metadata": {},
   "outputs": [
    {
     "name": "stdout",
     "output_type": "stream",
     "text": [
      "10\n",
      "11\n",
      "21\n",
      "32\n",
      "53\n",
      "85\n",
      "138\n",
      "223\n",
      "361\n",
      "584\n"
     ]
    }
   ],
   "source": [
    "for i in gen(10):\n",
    "    print(i)"
   ]
  },
  {
   "cell_type": "markdown",
   "id": "7bef89ca-8af7-43c2-a841-c9e0d0a3cdca",
   "metadata": {},
   "source": [
    "Q5. Create a generator function for prime numbers less than 1000. Use the next() method to print the\n",
    "first 20 prime numbers."
   ]
  },
  {
   "cell_type": "code",
   "execution_count": 60,
   "id": "ed6c6ed7-1101-44f8-9e05-5bf99eac43db",
   "metadata": {},
   "outputs": [],
   "source": [
    "def prime():\n",
    "    for i in range(2, 1000):\n",
    "        is_prime=True\n",
    "        for j in range(2, i):\n",
    "            if i % j == 0:\n",
    "                is_prime = False\n",
    "                break\n",
    "        if is_prime:\n",
    "            yield i"
   ]
  },
  {
   "cell_type": "code",
   "execution_count": 61,
   "id": "c9930ed3-199c-4be4-a72a-bd76cbd06079",
   "metadata": {},
   "outputs": [],
   "source": [
    "prime = prime()"
   ]
  },
  {
   "cell_type": "code",
   "execution_count": 62,
   "id": "d60c7cca-dfa5-417f-9c51-1294533e1b17",
   "metadata": {},
   "outputs": [
    {
     "name": "stdout",
     "output_type": "stream",
     "text": [
      "2\n",
      "3\n",
      "5\n",
      "7\n",
      "11\n",
      "13\n",
      "17\n",
      "19\n",
      "23\n",
      "29\n",
      "31\n",
      "37\n",
      "41\n",
      "43\n",
      "47\n",
      "53\n",
      "59\n",
      "61\n",
      "67\n",
      "71\n"
     ]
    }
   ],
   "source": [
    "for i in range(20):\n",
    "    print(next(prime))"
   ]
  },
  {
   "cell_type": "markdown",
   "id": "1bc3df8b-24fe-4426-8940-f35ffa52f5c6",
   "metadata": {},
   "source": [
    "Q6. Write a python program to print the first 10 Fibonacci numbers using a while loop."
   ]
  },
  {
   "cell_type": "code",
   "execution_count": 63,
   "id": "2cef57ac-4cb6-4c9b-98ed-39f988b6f24f",
   "metadata": {},
   "outputs": [
    {
     "name": "stdout",
     "output_type": "stream",
     "text": [
      "0\n",
      "1\n",
      "1\n",
      "2\n",
      "3\n",
      "5\n",
      "8\n",
      "13\n",
      "21\n",
      "34\n"
     ]
    }
   ],
   "source": [
    "a,b = 0,1\n",
    "count = 0\n",
    "while count < 10:\n",
    "    print(a)\n",
    "    nth = a + b\n",
    "    a = b\n",
    "    b = nth\n",
    "    count += 1"
   ]
  },
  {
   "cell_type": "markdown",
   "id": "6eab9a95-d89b-46a2-89b9-a1f906bf478d",
   "metadata": {},
   "source": [
    "Q7. Write a List Comprehension to iterate through the given string: ‘pwskills’.\n",
    "Expected output: ['p', 'w', 's', 'k', 'i', 'l', 'l', 's']"
   ]
  },
  {
   "cell_type": "code",
   "execution_count": 64,
   "id": "bb1c66b8-fe98-4f0a-8dbe-21cd91a5a3b2",
   "metadata": {},
   "outputs": [],
   "source": [
    "t= \"pwskills\""
   ]
  },
  {
   "cell_type": "code",
   "execution_count": 65,
   "id": "a2cc7187-560f-4409-b6b8-2c8d8da7007b",
   "metadata": {},
   "outputs": [
    {
     "data": {
      "text/plain": [
       "['p', 'w', 's', 'k', 'i', 'l', 'l', 's']"
      ]
     },
     "execution_count": 65,
     "metadata": {},
     "output_type": "execute_result"
    }
   ],
   "source": [
    "list(t)"
   ]
  },
  {
   "cell_type": "markdown",
   "id": "cf5a88c9-43c7-4898-8835-65460010a8fb",
   "metadata": {},
   "source": [
    "Q8. Write a python program to check whether a given number is Palindrome or not using a while loop."
   ]
  },
  {
   "cell_type": "code",
   "execution_count": 66,
   "id": "66934a14-5681-4575-9608-9a6d455626da",
   "metadata": {},
   "outputs": [
    {
     "name": "stdin",
     "output_type": "stream",
     "text": [
      "Enter number:  1221\n"
     ]
    },
    {
     "name": "stdout",
     "output_type": "stream",
     "text": [
      "The number is a palindrome!\n"
     ]
    }
   ],
   "source": [
    "n = int(input(\"Enter number: \"))\n",
    "temp = n\n",
    "rev = 0\n",
    "while n > 0:\n",
    "    dig = n % 10\n",
    "    rev = rev * 10 + dig\n",
    "    n = n // 10\n",
    "if temp == rev:\n",
    "    print(\"The number is a palindrome!\")\n",
    "else:\n",
    "    print(\"The number isn't a palindrome!\")\n"
   ]
  },
  {
   "cell_type": "markdown",
   "id": "61e839c9-9e0a-4531-9e15-e148b1c6ade4",
   "metadata": {},
   "source": [
    "Q9. Write a code to print odd numbers from 1 to 100 using list comprehension.\n",
    "Note: Use a list comprehension to create a list from 1 to 100 and use another List comprehension to filter\n",
    "out odd numbers."
   ]
  },
  {
   "cell_type": "code",
   "execution_count": null,
   "id": "54f64f42-a565-4ba3-a670-297b67caae51",
   "metadata": {},
   "outputs": [],
   "source": []
  },
  {
   "cell_type": "code",
   "execution_count": null,
   "id": "517895c6-2dbd-4dc3-b038-6ef6082629e8",
   "metadata": {},
   "outputs": [],
   "source": []
  },
  {
   "cell_type": "code",
   "execution_count": null,
   "id": "251c5fd4-15bc-4c27-ac88-3c159f5f53af",
   "metadata": {},
   "outputs": [],
   "source": []
  },
  {
   "cell_type": "code",
   "execution_count": null,
   "id": "c9ad0fd6-6498-4ccf-bc8f-8ca3561f36ea",
   "metadata": {},
   "outputs": [],
   "source": []
  }
 ],
 "metadata": {
  "kernelspec": {
   "display_name": "Python 3 (ipykernel)",
   "language": "python",
   "name": "python3"
  },
  "language_info": {
   "codemirror_mode": {
    "name": "ipython",
    "version": 3
   },
   "file_extension": ".py",
   "mimetype": "text/x-python",
   "name": "python",
   "nbconvert_exporter": "python",
   "pygments_lexer": "ipython3",
   "version": "3.10.8"
  }
 },
 "nbformat": 4,
 "nbformat_minor": 5
}
